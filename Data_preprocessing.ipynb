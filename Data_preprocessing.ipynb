{
 "cells": [
  {
   "cell_type": "markdown",
   "metadata": {},
   "source": [
    "### Dependencies"
   ]
  },
  {
   "cell_type": "code",
   "execution_count": 9,
   "metadata": {},
   "outputs": [],
   "source": [
    "import os\n",
    "import shutil\n",
    "import random\n",
    "import pandas as pd\n",
    "import seaborn as sns \n",
    "import matplotlib.pyplot as plt\n",
    "import matplotlib.cm as cm\n",
    "from collections import Counter"
   ]
  },
  {
   "cell_type": "markdown",
   "metadata": {},
   "source": [
    "### Stats & Visuals"
   ]
  },
  {
   "cell_type": "markdown",
   "metadata": {},
   "source": [
    "This code generates bars to visually represent occurences of each class like that of Roboflow"
   ]
  },
  {
   "cell_type": "code",
   "execution_count": 2,
   "metadata": {},
   "outputs": [],
   "source": [
    "# Define the path where labels are stored\n",
    "\n",
    "# LABELS_PATHS = [\"/home/hghallab/dataset/object_detection_data/RealestRealRaw/train/labels\",\n",
    "#                  \"/home/hghallab/dataset/synthetic_data/outputs100/labels\",\n",
    "#                  \"/home/hghallab/dataset/synthetic_data/outputs200/labels\",\n",
    "#                  \"/home/hghallab/dataset/synthetic_data/outputs250/labels\",\n",
    "#                  \"/home/hghallab/dataset/synthetic_data/outputs300/labels\"]\n",
    "\n",
    "LABELS_PATHS = [\n",
    "    \"/home/hghallab/dataset/object_detection_data/FullDataV1/train/labels\"\n",
    "]"
   ]
  },
  {
   "cell_type": "code",
   "execution_count": 3,
   "metadata": {},
   "outputs": [],
   "source": [
    "# Put classes retireved from label files in a list \n",
    "labels = []\n",
    "for i in range(len(LABELS_PATHS)):\n",
    "    path = LABELS_PATHS[i]\n",
    "    for label in os.listdir(path):\n",
    "        label_path = os.path.join(path, label)\n",
    "        with open(label_path, \"r\") as file:\n",
    "            lines = file.readlines()\n",
    "            for line in lines:\n",
    "                if int(line[:2]) < 10:\n",
    "                    labels.append(line[0])\n",
    "                else:\n",
    "                    labels.append(line[:2])"
   ]
  },
  {
   "cell_type": "code",
   "execution_count": 4,
   "metadata": {},
   "outputs": [
    {
     "name": "stdout",
     "output_type": "stream",
     "text": [
      " Element | Count | Bar\n",
      "------------------------------\n",
      "23       |   663 | ******************************\n",
      "42       |   553 | *************************\n",
      "13       |   467 | *********************\n",
      "59       |   398 | ******************\n",
      "11       |   387 | *****************\n",
      "43       |   374 | ****************\n",
      "38       |   333 | ***************\n",
      "6        |   317 | **************\n",
      "29       |   316 | **************\n",
      "16       |   312 | **************\n",
      "49       |   298 | *************\n",
      "3        |   298 | *************\n",
      "62       |   292 | *************\n",
      "15       |   291 | *************\n",
      "7        |   291 | *************\n",
      "21       |   289 | *************\n",
      "34       |   289 | *************\n",
      "22       |   285 | ************\n",
      "66       |   285 | ************\n",
      "50       |   282 | ************\n",
      "12       |   280 | ************\n",
      "4        |   280 | ************\n",
      "36       |   278 | ************\n",
      "64       |   278 | ************\n",
      "45       |   275 | ************\n",
      "31       |   274 | ************\n",
      "33       |   272 | ************\n",
      "27       |   272 | ************\n",
      "28       |   267 | ************\n",
      "48       |   267 | ************\n",
      "0        |   267 | ************\n",
      "46       |   266 | ************\n",
      "14       |   265 | ***********\n",
      "37       |   263 | ***********\n",
      "67       |   263 | ***********\n",
      "26       |   262 | ***********\n",
      "30       |   261 | ***********\n",
      "2        |   261 | ***********\n",
      "69       |   261 | ***********\n",
      "54       |   260 | ***********\n",
      "74       |   257 | ***********\n",
      "10       |   257 | ***********\n",
      "8        |   257 | ***********\n",
      "58       |   256 | ***********\n",
      "35       |   256 | ***********\n",
      "32       |   255 | ***********\n",
      "17       |   253 | ***********\n",
      "56       |   253 | ***********\n",
      "20       |   253 | ***********\n",
      "44       |   252 | ***********\n",
      "5        |   252 | ***********\n",
      "65       |   252 | ***********\n",
      "25       |   251 | ***********\n",
      "71       |   250 | ***********\n",
      "68       |   249 | ***********\n",
      "40       |   249 | ***********\n",
      "52       |   249 | ***********\n",
      "19       |   248 | ***********\n",
      "39       |   247 | ***********\n",
      "55       |   247 | ***********\n",
      "72       |   247 | ***********\n",
      "18       |   246 | ***********\n",
      "61       |   245 | ***********\n",
      "57       |   245 | ***********\n",
      "41       |   245 | ***********\n",
      "24       |   243 | **********\n",
      "51       |   242 | **********\n",
      "9        |   242 | **********\n",
      "60       |   241 | **********\n",
      "75       |   238 | **********\n",
      "1        |   237 | **********\n",
      "47       |   235 | **********\n",
      "73       |   235 | **********\n",
      "63       |   235 | **********\n",
      "53       |   233 | **********\n",
      "70       |   230 | **********\n"
     ]
    }
   ],
   "source": [
    "# Count the number of instances for each classes \n",
    "occurrences = Counter(labels)\n",
    "\n",
    "# Sort occurrences by count in descending order.\n",
    "sorted_occurrences = occurrences.most_common()\n",
    "\n",
    "# Find the maximum count for scaling the bars.\n",
    "max_count = max(occurrences.values(), default=1) \n",
    "\n",
    "# Print the header.\n",
    "print(\" Element | Count | Bar\")\n",
    "print(\"-\" * 30)\n",
    "\n",
    "# Iterate over occurrences and print bars.\n",
    "for element, count in sorted_occurrences:\n",
    "    bar = \"*\" * int(count * 30 // max_count)\n",
    "    print(f\"{element:8} | {count:5} | {bar}\")\n"
   ]
  },
  {
   "cell_type": "markdown",
   "metadata": {},
   "source": [
    "Make a historgram"
   ]
  },
  {
   "cell_type": "code",
   "execution_count": 22,
   "metadata": {},
   "outputs": [
    {
     "data": {
      "image/png": "[encoded data removed]",
      "text/plain": [
       "<Figure size 640x480 with 1 Axes>"
      ]
     },
     "metadata": {},
     "output_type": "display_data"
    }
   ],
   "source": [
    "class_labels = list(occurrences.keys())\n",
    "class_counts = list(occurrences.values())\n",
    "\n",
    "# Create a colormap object\n",
    "palette = sns.color_palette(\"Set3\", n_colors=len(class_labels))\n",
    "\n",
    "# Normalize class indices for color assignment (0 to 1 range)\n",
    "norm = plt.Normalize(min(range(len(class_labels))), max(range(len(class_labels))))\n",
    "\n",
    "# Create the bar plot with colors\n",
    "plt.bar(class_labels, class_counts, color=palette)\n",
    "plt.xlabel(\"Class Label\")\n",
    "plt.ylabel(\"Number of Instances\")\n",
    "plt.title(\"Class Distribution\")\n",
    "plt.xticks(rotation=70, ha='right', fontsize='5')  # Rotate x-axis labels for better readability\n",
    "plt.tight_layout()\n",
    "plt.show()"
   ]
  },
  {
   "cell_type": "markdown",
   "metadata": {},
   "source": [
    "Generate a heatmap"
   ]
  },
  {
   "cell_type": "code",
   "execution_count": 8,
   "metadata": {},
   "outputs": [
    {
     "data": {
      "image/png": "[encoded data removed]",
      "text/plain": [
       "<Figure size 640x480 with 2 Axes>"
      ]
     },
     "metadata": {},
     "output_type": "display_data"
    }
   ],
   "source": [
    "# Create a pandas DataFrame for easier heatmap generation\n",
    "class_df = pd.DataFrame.from_dict(occurrences, orient='index', columns=['Count'])\n",
    "\n",
    "# Generate heatmap using pandas and matplotlib/seaborn \n",
    "sns.heatmap(class_df, cmap=\"YlGnBu\")  # Y\n",
    "plt.title(\"Class Distribution Heatmap\")\n",
    "plt.xlabel(\"Class Label\")\n",
    "plt.ylabel(\"Number of Instances\")\n",
    "plt.show()"
   ]
  },
  {
   "cell_type": "markdown",
   "metadata": {},
   "source": [
    "### Correction of class annotations"
   ]
  },
  {
   "cell_type": "markdown",
   "metadata": {},
   "source": [
    "I changed the yaml file so I had to corrected each class annotation based on how many classes I removed/modified."
   ]
  },
  {
   "cell_type": "code",
   "execution_count": 74,
   "metadata": {},
   "outputs": [],
   "source": [
    "TO_CHANGE_LABELS_PATHS = [\n",
    "                 \"/home/hghallab/dataset/synthetic_data/outputs100/labels\",\n",
    "                 \"/home/hghallab/dataset/synthetic_data/outputs200/labels\",\n",
    "                 \"/home/hghallab/dataset/synthetic_data/outputs250/labels\",\n",
    "                 \"/home/hghallab/dataset/synthetic_data/outputs300/labels\"]"
   ]
  },
  {
   "cell_type": "code",
   "execution_count": null,
   "metadata": {},
   "outputs": [],
   "source": [
    "for i in range(0, 4):\n",
    "    path = TO_CHANGE_LABELS_PATHS[i]\n",
    "    for label in os.listdir(path):\n",
    "        label_path = os.path.join(path, label)\n",
    "        \n",
    "        with open(label_path, \"r\") as file:\n",
    "            lines = file.readlines()\n",
    "            # print(len(lines) if len(lines)>1 else \"\", end=\"\")\n",
    "            for line in lines:\n",
    "                print(\"old\", line)\n",
    "\n",
    "                if int(line[:2]) <= 30 and int(line[:2]) >= 15:\n",
    "                    new_class = int(line[:2]) - 1\n",
    "                    new_line = str(new_class) + line[2:]\n",
    "\n",
    "                elif int(line[:2]) <= 62 and int(line[:2]) >= 32:\n",
    "                    new_class = int(line[:2]) - 2\n",
    "                    new_line = str(new_class) + line[2:]\n",
    "\n",
    "                elif int(line[:2]) >= 64:\n",
    "                    new_class = int(line[:2]) - 3\n",
    "                    new_line = str(new_class) + line[2:]\n",
    "\n",
    "                elif int(line[:2]) == 63:\n",
    "                    new_class = 75\n",
    "                    new_line = str(new_class) + line[2:]\n",
    "                \n",
    "                else:\n",
    "                    print(\"no change\")\n",
    "                    new_line = line\n",
    "\n",
    "                # else:\n",
    "                #     new_class = int(line[:2])\n",
    "                print(\"new\", new_line)\n",
    "        \n",
    "        with open(label_path, \"w\") as file:\n",
    "            file.writelines([new_line])\n",
    "        # with open(label_path, \"w\") as file:\n",
    "\n"
   ]
  },
  {
   "cell_type": "markdown",
   "metadata": {},
   "source": [
    "### Prepare for training"
   ]
  },
  {
   "cell_type": "markdown",
   "metadata": {},
   "source": [
    "In this part we're randomly splitting data into train, valid and test data in YOLO format."
   ]
  },
  {
   "cell_type": "code",
   "execution_count": 103,
   "metadata": {},
   "outputs": [],
   "source": [
    "# Define directory paths\n",
    "dir = \"/home/hghallab/dataset/object_detection_data/FullDataV1/data\"\n",
    "images_dir = os.path.join(dir, \"images\")\n",
    "labels_dir = os.path.join(dir, \"labels\")\n",
    "new_train_dir = \"/home/hghallab/dataset/object_detection_data/FullDataV1/train\"\n",
    "new_val_dir = \"/home/hghallab/dataset/object_detection_data/FullDataV1/valid\"\n",
    "new_test_dir = \"/home/hghallab/dataset/object_detection_data/FullDataV1/test\""
   ]
  },
  {
   "cell_type": "code",
   "execution_count": 104,
   "metadata": {},
   "outputs": [],
   "source": [
    "# Define split ratios (adjust as needed)\n",
    "train_ratio = 0.8\n",
    "val_ratio = 0.1\n",
    "test_ratio = 0.1"
   ]
  },
  {
   "cell_type": "code",
   "execution_count": 105,
   "metadata": {},
   "outputs": [],
   "source": [
    "# Create new directories (if they don't exist)\n",
    "os.makedirs(new_train_dir, exist_ok=True)\n",
    "os.makedirs(new_val_dir, exist_ok=True)\n",
    "os.makedirs(new_test_dir, exist_ok=True)\n",
    "os.makedirs(os.path.join(new_train_dir, \"images\"), exist_ok=True)\n",
    "os.makedirs(os.path.join(new_train_dir, \"labels\"), exist_ok=True)\n",
    "os.makedirs(os.path.join(new_val_dir, \"images\"), exist_ok=True)\n",
    "os.makedirs(os.path.join(new_val_dir, \"labels\"), exist_ok=True)\n",
    "os.makedirs(os.path.join(new_test_dir, \"images\"), exist_ok=True)\n",
    "os.makedirs(os.path.join(new_test_dir, \"labels\"), exist_ok=True)"
   ]
  },
  {
   "cell_type": "code",
   "execution_count": 106,
   "metadata": {},
   "outputs": [],
   "source": [
    "# Get lists of images and labels (assuming matching filenames)\n",
    "image_paths = [os.path.join(images_dir, f) for f in os.listdir(images_dir)]\n",
    "label_paths = [os.path.join(labels_dir, f) for f in os.listdir(labels_dir)]"
   ]
  },
  {
   "cell_type": "code",
   "execution_count": 107,
   "metadata": {},
   "outputs": [],
   "source": [
    "# Shuffle combined list (image, label) pairs\n",
    "combined = list(zip(image_paths, label_paths))\n",
    "random.shuffle(combined)"
   ]
  },
  {
   "cell_type": "code",
   "execution_count": 109,
   "metadata": {},
   "outputs": [],
   "source": [
    "# Split data based on ratios\n",
    "train_split = int(len(combined) * train_ratio)\n",
    "val_split = train_split + int(len(combined) * val_ratio)\n",
    "\n",
    "train_data = combined[:train_split]\n",
    "val_data = combined[train_split:val_split]\n",
    "test_data = combined[val_split:]\n"
   ]
  },
  {
   "cell_type": "code",
   "execution_count": 111,
   "metadata": {},
   "outputs": [],
   "source": [
    "# Move data to respective folders\n",
    "for image_path, label_path in train_data:\n",
    "    shutil.move(image_path, os.path.join(new_train_dir, \"images\", os.path.basename(image_path)))\n",
    "    shutil.move(label_path, os.path.join(new_train_dir, \"labels\", os.path.basename(label_path)))\n",
    "\n",
    "for image_path, label_path in val_data:\n",
    "    shutil.move(image_path, os.path.join(new_val_dir, \"images\", os.path.basename(image_path)))\n",
    "    shutil.move(label_path, os.path.join(new_val_dir, \"labels\", os.path.basename(label_path)))\n",
    "\n",
    "\n",
    "for image_path, label_path in test_data:\n",
    "    shutil.move(image_path, os.path.join(new_test_dir, \"images\", os.path.basename(image_path)))\n",
    "    shutil.move(label_path, os.path.join(new_test_dir, \"labels\", os.path.basename(label_path)))"
   ]
  }
 ],
 "metadata": {
  "kernelspec": {
   "display_name": "Python 3",
   "language": "python",
   "name": "python3"
  },
  "language_info": {
   "codemirror_mode": {
    "name": "ipython",
    "version": 3
   },
   "file_extension": ".py",
   "mimetype": "text/x-python",
   "name": "python",
   "nbconvert_exporter": "python",
   "pygments_lexer": "ipython3",
   "version": "3.10.12"
  }
 },
 "nbformat": 4,
 "nbformat_minor": 2
}
