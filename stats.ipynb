{
 "cells": [
  {
   "cell_type": "code",
   "execution_count": 15,
   "metadata": {},
   "outputs": [],
   "source": [
    "import os\n",
    "import shutil\n",
    "from collections import Counter"
   ]
  },
  {
   "cell_type": "code",
   "execution_count": 36,
   "metadata": {},
   "outputs": [],
   "source": [
    "shutil.rmtree(\"/home/hghallab/dataset/synthetic_data/outputs/images\")\n",
    "os.mkdir(\"/home/hghallab/dataset/synthetic_data/outputs/images\")"
   ]
  },
  {
   "cell_type": "code",
   "execution_count": 35,
   "metadata": {},
   "outputs": [],
   "source": [
    "shutil.rmtree(\"/home/hghallab/dataset/synthetic_data/outputs/labels\")\n",
    "os.mkdir(\"/home/hghallab/dataset/synthetic_data/outputs/labels\")"
   ]
  },
  {
   "cell_type": "code",
   "execution_count": 19,
   "metadata": {},
   "outputs": [],
   "source": [
    "LABELS_PATH = \"/home/hghallab/dataset/object_detection_data/real_raw/train/labels\""
   ]
  },
  {
   "cell_type": "code",
   "execution_count": 37,
   "metadata": {},
   "outputs": [],
   "source": [
    "labels = []\n",
    "for label in os.listdir(LABELS_PATH):\n",
    "    label_path = os.path.join(LABELS_PATH, label)\n",
    "    with open(label_path, \"r\") as file:\n",
    "        lines = file.readlines()\n",
    "        for line in lines:\n",
    "            if int(line[:2]) < 10:\n",
    "                labels.append(line[0])\n",
    "            else:\n",
    "                labels.append(line[:2])\n"
   ]
  },
  {
   "cell_type": "code",
   "execution_count": 38,
   "metadata": {},
   "outputs": [],
   "source": [
    "occurrences = Counter(labels)"
   ]
  },
  {
   "cell_type": "code",
   "execution_count": 44,
   "metadata": {},
   "outputs": [
    {
     "name": "stdout",
     "output_type": "stream",
     "text": [
      " Element | Count | Bar\n",
      "------------------------------\n",
      "24       |   839 | ************************************************************\n",
      "44       |   701 | **************************************************\n",
      "13       |   578 | *****************************************\n",
      "11       |   488 | **********************************\n",
      "61       |   478 | **********************************\n",
      "45       |   477 | **********************************\n",
      "40       |   391 | ***************************\n",
      "36       |   384 | ***************************\n",
      "17       |   379 | ***************************\n",
      "4        |   355 | *************************\n",
      "69       |   346 | ************************\n",
      "30       |   298 | *********************\n",
      "6        |   284 | ********************\n",
      "3        |   268 | *******************\n",
      "51       |   262 | ******************\n",
      "33       |   239 | *****************\n",
      "9        |   215 | ***************\n",
      "25       |   205 | **************\n",
      "16       |   170 | ************\n",
      "8        |   168 | ************\n",
      "7        |   163 | ***********\n",
      "32       |   140 | **********\n",
      "27       |   136 | *********\n",
      "70       |   134 | *********\n",
      "10       |   126 | *********\n",
      "18       |   123 | ********\n",
      "35       |   117 | ********\n",
      "59       |   112 | ********\n",
      "26       |   109 | *******\n",
      "20       |   108 | *******\n",
      "19       |   108 | *******\n",
      "12       |    99 | *******\n",
      "28       |    99 | *******\n",
      "22       |    95 | ******\n",
      "67       |    89 | ******\n",
      "0        |    87 | ******\n",
      "47       |    85 | ******\n",
      "34       |    69 | ****\n",
      "5        |    62 | ****\n",
      "65       |    59 | ****\n",
      "52       |    51 | ***\n",
      "23       |    49 | ***\n",
      "38       |    47 | ***\n",
      "15       |    42 | ***\n",
      "29       |    32 | **\n",
      "50       |    31 | **\n",
      "48       |    24 | *\n",
      "2        |    24 | *\n",
      "68       |    24 | *\n",
      "71       |    22 | *\n",
      "39       |    20 | *\n",
      "72       |    20 | *\n",
      "21       |    19 | *\n",
      "37       |    17 | *\n",
      "56       |    15 | *\n",
      "60       |    14 | *\n",
      "46       |    14 | *\n",
      "58       |     9 | \n",
      "43       |     8 | \n",
      "75       |     8 | \n",
      "62       |     7 | \n",
      "14       |     6 | \n",
      "53       |     6 | \n",
      "77       |     6 | \n",
      "76       |     6 | \n",
      "42       |     5 | \n",
      "55       |     5 | \n",
      "41       |     4 | \n",
      "49       |     4 | \n",
      "57       |     3 | \n",
      "74       |     3 | \n",
      "66       |     3 | \n",
      "54       |     3 | \n",
      "73       |     2 | \n",
      "1        |     2 | \n",
      "64       |     2 | \n",
      "31       |     2 | \n",
      "63       |     1 | \n"
     ]
    }
   ],
   "source": [
    "# Sort occurrences by count in descending order.\n",
    "sorted_occurrences = occurrences.most_common()\n",
    "\n",
    "# Find the maximum count for scaling the bars.\n",
    "max_count = max(occurrences.values(), default=1) \n",
    "\n",
    "# Print the header.\n",
    "print(\" Element | Count | Bar\")\n",
    "print(\"-\" * 30)\n",
    "\n",
    "# Iterate over occurrences and print bars.\n",
    "for element, count in sorted_occurrences:\n",
    "    bar = \"|\" * int(count) \n",
    "    print(f\"{element:8} | {count:5} | {bar}\")\n"
   ]
  },
  {
   "cell_type": "code",
   "execution_count": null,
   "metadata": {},
   "outputs": [],
   "source": []
  }
 ],
 "metadata": {
  "kernelspec": {
   "display_name": "Python 3",
   "language": "python",
   "name": "python3"
  },
  "language_info": {
   "codemirror_mode": {
    "name": "ipython",
    "version": 3
   },
   "file_extension": ".py",
   "mimetype": "text/x-python",
   "name": "python",
   "nbconvert_exporter": "python",
   "pygments_lexer": "ipython3",
   "version": "3.10.12"
  }
 },
 "nbformat": 4,
 "nbformat_minor": 2
}
